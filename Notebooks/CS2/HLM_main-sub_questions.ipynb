{
  "nbformat": 4,
  "nbformat_minor": 0,
  "metadata": {
    "colab": {
      "provenance": []
    },
    "kernelspec": {
      "name": "python3",
      "display_name": "Python 3"
    },
    "language_info": {
      "name": "python"
    }
  },
  "cells": [
    {
      "cell_type": "code",
      "source": [
        "# -*- coding: utf-8 -*-\n",
        "\"\"\"\n",
        "Predict Q6 Satisfaction using Main Questions and Sub-Questions\n",
        "Robust version: dynamically detects column names to avoid KeyError\n",
        "\"\"\"\n",
        "\n",
        "import pandas as pd\n",
        "import numpy as np\n",
        "from sklearn.preprocessing import StandardScaler\n",
        "import statsmodels.formula.api as smf\n",
        "import warnings\n",
        "warnings.filterwarnings(\"ignore\")"
      ],
      "metadata": {
        "id": "_R6kggpX31tS"
      },
      "execution_count": 15,
      "outputs": []
    },
    {
      "cell_type": "code",
      "source": [
        "# -----------------------------\n",
        "# 1. Load the Data\n",
        "# -----------------------------\n",
        "# Important: Load with no header splitting issues\n",
        "df = pd.read_csv('student_survey_data.csv', header=0)  # Use first row as header\n",
        "\n",
        "print(f\"Loaded data with {len(df)} rows and {len(df.columns)} columns\")\n",
        "print(\"\\nFirst few columns:\")\n",
        "print(df.columns.tolist()[:10])\n",
        "\n",
        "# Check for any problematic characters in column names (like commas inside names)\n",
        "print(\"\\nChecking for commas in column names...\")\n",
        "for col in df.columns:\n",
        "    if ',' in col:\n",
        "        print(f\"Column contains comma: {col}\")\n",
        "\n",
        "# Clean column names: remove or replace problematic characters\n",
        "df.columns = df.columns.str.replace(',', '', regex=False)  # Remove commas\n",
        "df.columns = df.columns.str.strip()  # Remove whitespace\n",
        "\n",
        "print(\"\\n✅ Cleaned column names (first 10):\")\n",
        "print(df.columns.tolist()[:10])\n",
        "\n",
        "# Drop rows with missing Q6 (target)\n",
        "df.dropna(subset=['Q6_How_Satisfied_You_are_with_your_Student_Life'], inplace=True)\n",
        "df.rename(columns={'Q6_How_Satisfied_You_are_with_your_Student_Life': 'Q6'}, inplace=True)\n",
        "\n",
        "# Ensure Department and Gender are categorical\n",
        "df['Department'] = df['Department'].astype('category')\n",
        "df['Gender'] = df['Gender'].astype('category')"
      ],
      "metadata": {
        "colab": {
          "base_uri": "https://localhost:8080/"
        },
        "id": "ORXn7yMR3-u2",
        "outputId": "063a05fb-b533-4ca2-aa71-89789c3b6ae3"
      },
      "execution_count": 16,
      "outputs": [
        {
          "output_type": "stream",
          "name": "stdout",
          "text": [
            "Loaded data with 1565 rows and 72 columns\n",
            "\n",
            "First few columns:\n",
            "['response_id', 'Career', 'Citizenship', 'Nationality', 'Year_since_Matriculation', 'Year_of_Study', 'Primary_Programme', 'Gender', 'Department', 'Housing_Type']\n",
            "\n",
            "Checking for commas in column names...\n",
            "\n",
            "✅ Cleaned column names (first 10):\n",
            "['response_id', 'Career', 'Citizenship', 'Nationality', 'Year_since_Matriculation', 'Year_of_Study', 'Primary_Programme', 'Gender', 'Department', 'Housing_Type']\n"
          ]
        }
      ]
    },
    {
      "cell_type": "code",
      "source": [
        "# -----------------------------\n",
        "# 2. Helper: Find Sub-Question Columns by Prefix\n",
        "# -----------------------------\n",
        "def get_sub_cols(prefix):\n",
        "    \"\"\"Dynamically find all columns that start with given prefix\"\"\"\n",
        "    return [col for col in df.columns if col.startswith(prefix)]"
      ],
      "metadata": {
        "id": "1oiXemub4BVI"
      },
      "execution_count": 17,
      "outputs": []
    },
    {
      "cell_type": "code",
      "source": [
        "# -----------------------------\n",
        "# 3. Feature Engineering\n",
        "# -----------------------------\n",
        "\n",
        "# --- Q1: Volunteering ---\n",
        "q1_main = 'Q1_How_many_events_have_you_Volunteered_in'\n",
        "q1_sub_prefix = 'Q1_Volunteered_For_'\n",
        "q1_sub_cols = get_sub_cols(q1_sub_prefix)\n",
        "\n",
        "if q1_sub_cols:\n",
        "    print(f\"Found {len(q1_sub_cols)} Q1 sub-questions\")\n",
        "    df['Q1_freq'] = df[q1_main]\n",
        "    df['Q1_diversity'] = df[q1_sub_cols].sum(axis=1)\n",
        "    df['Q1_diversity_norm'] = df['Q1_diversity'] / len(q1_sub_cols)\n",
        "    # Example flags (use only if columns exist)\n",
        "    if 'Q1_Volunteered_For_Animal_welfare' in q1_sub_cols:\n",
        "        df['Q1_vol_animal'] = df['Q1_Volunteered_For_Animal_welfare']\n",
        "    if 'Q1_Volunteered_For_Environmental_sustainability' in q1_sub_cols:\n",
        "        df['Q1_vol_env'] = df['Q1_Volunteered_For_Environmental_sustainability']\n",
        "else:\n",
        "    print(\"No Q1 sub-questions found!\")\n",
        "    df['Q1_freq'] = df[q1_main]\n",
        "    df['Q1_diversity_norm'] = 0\n",
        "\n",
        "# --- Q2: Participation ---\n",
        "q2_main = 'Q2_How_many_events_have_you_Participated_in'\n",
        "q2_sub_prefix = 'Q2_Participated_in_'\n",
        "q2_sub_cols = get_sub_cols(q2_sub_prefix)\n",
        "\n",
        "if q2_sub_cols:\n",
        "    print(f\"Found {len(q2_sub_cols)} Q2 sub-questions\")\n",
        "    df['Q2_freq'] = df[q2_main]\n",
        "    df['Q2_diversity'] = df[q2_sub_cols].sum(axis=1)\n",
        "    df['Q2_diversity_norm'] = df['Q2_diversity'] / len(q2_sub_cols)\n",
        "    # Try to extract key flags safely\n",
        "    for col in ['Clubs', 'Societies_and_Interest_Groups', 'HallsJCRCs_and_or_Residential_College_CSCs', 'University_organised_events']:\n",
        "        full_col = f'Q2_Participated_in_{col}'\n",
        "        if full_col in df.columns:\n",
        "            df[f'Q2_{col.split(\"_\")[0].lower()}'] = df[full_col]\n",
        "else:\n",
        "    print(\"No Q2 sub-questions found!\")\n",
        "    df['Q2_freq'] = df[q2_main]\n",
        "    df['Q2_diversity_norm'] = 0\n",
        "\n",
        "# --- Q3: Interests ---\n",
        "q3_main = 'Q3_How_many_activities_are_you_Interested_in'\n",
        "q3_sub_prefix = 'Q3_Interested_in_'\n",
        "q3_sub_cols = get_sub_cols(q3_sub_prefix)\n",
        "\n",
        "if q3_sub_cols:\n",
        "    print(f\"Found {len(q3_sub_cols)} Q3 sub-questions\")\n",
        "    df['Q3_intensity'] = df[q3_main]\n",
        "    df['Q3_diversity'] = df[q3_sub_cols].sum(axis=1)\n",
        "    df['Q3_diversity_norm'] = df['Q3_diversity'] / len(q3_sub_cols)\n",
        "else:\n",
        "    print(\"No Q3 sub-questions found!\")\n",
        "    df['Q3_intensity'] = df[q3_main]\n",
        "    df['Q3_diversity_norm'] = 0\n",
        "\n",
        "# --- Q4: Passion ---\n",
        "q4_main = 'Q4_How_many_activities_are_you_Passionate_about'\n",
        "q4_sub_prefix = 'Q4_Passionate_about_'\n",
        "q4_sub_cols = get_sub_cols(q4_sub_prefix)\n",
        "\n",
        "if q4_sub_cols:\n",
        "    print(f\"Found {len(q4_sub_cols)} Q4 sub-questions\")\n",
        "    df['Q4_intensity'] = df[q4_main]\n",
        "    df['Q4_diversity'] = df[q4_sub_cols].sum(axis=1)\n",
        "    df['Q4_diversity_norm'] = df['Q4_diversity'] / len(q4_sub_cols)\n",
        "else:\n",
        "    print(\"No Q4 sub-questions found!\")\n",
        "    df['Q4_intensity'] = df[q4_main]\n",
        "    df['Q4_diversity_norm'] = 0\n",
        "\n",
        "# --- Q5: Stress ---\n",
        "q5_main = 'Q5_What_are_your_levels_of_stress'\n",
        "q5_sub_prefix = 'Q5_Stressed_about_'\n",
        "q5_stress_cols = get_sub_cols(q5_sub_prefix)\n",
        "\n",
        "if q5_stress_cols:\n",
        "    print(f\"Found {len(q5_stress_cols)} Q5 stress domains\")\n",
        "    df['Q5_level'] = df[q5_main]\n",
        "    df['Q5_domains'] = df[q5_stress_cols].sum(axis=1)\n",
        "    # Add key stress flags\n",
        "    for domain in ['Academic_issues', 'Financial_issues', 'Friendships', 'Romantic_relationships']:\n",
        "        col = f'Q5_Stressed_about_{domain}'\n",
        "        if col in df.columns:\n",
        "            df[f'Q5_{domain.split(\"_\")[0].lower()}'] = df[col]\n",
        "else:\n",
        "    print(\"No Q5 sub-questions found!\")\n",
        "    df['Q5_level'] = df[q5_main]\n",
        "    df['Q5_domains'] = 0\n",
        "\n",
        "# --- Q7 and Q8 ---\n",
        "if 'Q7_How_much_effort_do_you_make_to_interact_with_others' in df.columns:\n",
        "    df['Q7_effort'] = df['Q7_How_much_effort_do_you_make_to_interact_with_others']\n",
        "if 'Q8_About_How_events_are_you_aware_about' in df.columns:\n",
        "    df['Q8_awareness'] = df['Q8_About_How_events_are_you_aware_about']"
      ],
      "metadata": {
        "colab": {
          "base_uri": "https://localhost:8080/"
        },
        "id": "R7jDtFBe4G_S",
        "outputId": "6a1c2e97-103d-40ea-900c-bc4022ed2cb1"
      },
      "execution_count": 18,
      "outputs": [
        {
          "output_type": "stream",
          "name": "stdout",
          "text": [
            "Found 12 Q1 sub-questions\n",
            "Found 5 Q2 sub-questions\n",
            "Found 8 Q3 sub-questions\n",
            "Found 13 Q4 sub-questions\n",
            "Found 10 Q5 stress domains\n"
          ]
        }
      ]
    },
    {
      "cell_type": "code",
      "source": [
        "# -----------------------------\n",
        "# 4. Scale Numeric Predictors\n",
        "# -----------------------------\n",
        "scaler = StandardScaler()\n",
        "\n",
        "numeric_cols = [\n",
        "    'Q1_freq', 'Q2_freq', 'Q3_intensity', 'Q4_intensity', 'Q5_level',\n",
        "    'Q7_effort', 'Q8_awareness', 'Q1_diversity_norm', 'Q2_diversity_norm',\n",
        "    'Q3_diversity_norm', 'Q4_diversity_norm', 'Q5_domains'\n",
        "]\n",
        "\n",
        "for col in numeric_cols:\n",
        "    if col in df.columns and df[col].nunique() > 1:  # Only scale if exists and varies\n",
        "        df[f'{col}_scaled'] = scaler.fit_transform(df[[col]])\n",
        "    else:\n",
        "        df[f'{col}_scaled'] = 0  # Default if missing"
      ],
      "metadata": {
        "id": "Ze8rCCZx4K_C"
      },
      "execution_count": 19,
      "outputs": []
    },
    {
      "cell_type": "code",
      "source": [
        "# -----------------------------\n",
        "# 5. Build Model Formula\n",
        "# -----------------------------\n",
        "# Start with core predictors\n",
        "predictors = [\n",
        "    'Q1_freq_scaled', 'Q2_freq_scaled', 'Q3_intensity_scaled', 'Q4_intensity_scaled',\n",
        "    'Q5_level_scaled', 'Q7_effort_scaled', 'Q8_awareness_scaled',\n",
        "    'Q1_diversity_norm_scaled', 'Q2_diversity_norm_scaled', 'Q3_diversity_norm_scaled',\n",
        "    'Q4_diversity_norm_scaled', 'Q5_domains_scaled'\n",
        "]\n",
        "\n",
        "# Add any binary flags that exist\n",
        "optional_flags = [\n",
        "    'Q1_vol_animal', 'Q1_vol_env',\n",
        "    'Q2_Clubs', 'Q2_Societies', 'Q2_Halls', 'Q2_University',\n",
        "    'Q5_Academic', 'Q5_Financial', 'Q5_Friendships', 'Q5_Romantic'\n",
        "]\n",
        "\n",
        "for flag in optional_flags:\n",
        "    if flag in df.columns:\n",
        "        predictors.append(flag)\n",
        "\n",
        "# Add demographics\n",
        "predictors += ['C(Gender)', 'C(Year_of_Study)']\n",
        "\n",
        "# Add interaction\n",
        "formula_str = 'Q6 ~ ' + ' + '.join(predictors)\n",
        "formula_str += ' + Q1_freq_scaled:Q5_level_scaled'  # Interaction\n",
        "\n",
        "print(f\"\\n📊 Final Model Formula:\")\n",
        "print(formula_str)\n"
      ],
      "metadata": {
        "colab": {
          "base_uri": "https://localhost:8080/"
        },
        "id": "4PcLm5vn4Ml0",
        "outputId": "55e5ff23-2efc-4d1f-bfcf-e854a541ffed"
      },
      "execution_count": 20,
      "outputs": [
        {
          "output_type": "stream",
          "name": "stdout",
          "text": [
            "\n",
            "📊 Final Model Formula:\n",
            "Q6 ~ Q1_freq_scaled + Q2_freq_scaled + Q3_intensity_scaled + Q4_intensity_scaled + Q5_level_scaled + Q7_effort_scaled + Q8_awareness_scaled + Q1_diversity_norm_scaled + Q2_diversity_norm_scaled + Q3_diversity_norm_scaled + Q4_diversity_norm_scaled + Q5_domains_scaled + Q1_vol_animal + Q1_vol_env + C(Gender) + C(Year_of_Study) + Q1_freq_scaled:Q5_level_scaled\n"
          ]
        }
      ]
    },
    {
      "cell_type": "code",
      "source": [
        "# -----------------------------\n",
        "# 6. Fit HLM (Random Intercept by Department)\n",
        "# -----------------------------\n",
        "print(\"\\n📈 Fitting HLM with random intercept by Department...\")\n",
        "\n",
        "try:\n",
        "    model = smf.mixedlm(\n",
        "        formula=formula_str,\n",
        "        data=df,\n",
        "        groups=df[\"Department\"]\n",
        "    )\n",
        "    result = model.fit(method='lbfgs', maxiter=1000)\n",
        "    print(result.summary())\n",
        "except Exception as e:\n",
        "    print(f\"HLM fitting failed: {e}\")\n",
        "    print(\"Trying simplified model...\")\n",
        "    simple_formula = \"Q6 ~ Q1_freq_scaled + Q5_level_scaled + C(Gender) + C(Department)\"\n",
        "    model_simple = smf.mixedlm(simple_formula, df, groups=df[\"Department\"])\n",
        "    result_simple = model_simple.fit(method='lbfgs', maxiter=1000)\n",
        "    print(result_simple.summary())\n"
      ],
      "metadata": {
        "colab": {
          "base_uri": "https://localhost:8080/"
        },
        "id": "ID71_6xn4Tt4",
        "outputId": "e919c74a-b3a2-42f0-f233-8079e1343760"
      },
      "execution_count": 21,
      "outputs": [
        {
          "output_type": "stream",
          "name": "stdout",
          "text": [
            "\n",
            "📈 Fitting HLM with random intercept by Department...\n",
            "                  Mixed Linear Model Regression Results\n",
            "==========================================================================\n",
            "Model:                  MixedLM       Dependent Variable:       Q6        \n",
            "No. Observations:       1565          Method:                   REML      \n",
            "No. Groups:             10            Scale:                    0.2834    \n",
            "Min. group size:        135           Log-Likelihood:           -1309.3702\n",
            "Max. group size:        170           Converged:                Yes       \n",
            "Mean group size:        156.5                                             \n",
            "--------------------------------------------------------------------------\n",
            "                               Coef.  Std.Err.    z    P>|z| [0.025 0.975]\n",
            "--------------------------------------------------------------------------\n",
            "Intercept                       3.847    0.176  21.817 0.000  3.502  4.193\n",
            "C(Gender)[T.Male]              -0.024    0.027  -0.880 0.379 -0.077  0.029\n",
            "C(Year_of_Study)[T.2]           0.112    0.039   2.902 0.004  0.036  0.188\n",
            "C(Year_of_Study)[T.3]           0.030    0.038   0.799 0.425 -0.044  0.104\n",
            "C(Year_of_Study)[T.4]           0.028    0.039   0.714 0.475 -0.048  0.103\n",
            "Q1_freq_scaled                  0.553    0.014  40.727 0.000  0.526  0.580\n",
            "Q2_freq_scaled                 -0.014    0.014  -1.038 0.299 -0.041  0.012\n",
            "Q3_intensity_scaled            -0.000    0.014  -0.020 0.984 -0.027  0.026\n",
            "Q4_intensity_scaled             0.026    0.014   1.947 0.051 -0.000  0.053\n",
            "Q5_level_scaled                -0.345    0.014 -25.402 0.000 -0.372 -0.319\n",
            "Q7_effort_scaled                0.005    0.014   0.387 0.698 -0.021  0.032\n",
            "Q8_awareness_scaled            -0.005    0.014  -0.356 0.722 -0.031  0.022\n",
            "Q1_diversity_norm_scaled       -0.006    0.015  -0.417 0.677 -0.035  0.023\n",
            "Q2_diversity_norm_scaled        0.011    0.014   0.803 0.422 -0.016  0.037\n",
            "Q3_diversity_norm_scaled       -0.024    0.014  -1.741 0.082 -0.050  0.003\n",
            "Q4_diversity_norm_scaled       -0.005    0.014  -0.397 0.691 -0.032  0.021\n",
            "Q5_domains_scaled              -0.006    0.014  -0.462 0.644 -0.033  0.020\n",
            "Q1_vol_animal                   0.000    0.033   0.010 0.992 -0.064  0.065\n",
            "Q1_vol_env                      0.001    0.032   0.016 0.987 -0.062  0.063\n",
            "Q1_freq_scaled:Q5_level_scaled  0.073    0.014   5.348 0.000  0.046  0.100\n",
            "Group Var                       0.300    0.268                            \n",
            "==========================================================================\n",
            "\n"
          ]
        }
      ]
    },
    {
      "cell_type": "code",
      "source": [
        "# -----------------------------\n",
        "# 7. Visualize Department Effects\n",
        "# -----------------------------\n",
        "try:\n",
        "    import matplotlib.pyplot as plt\n",
        "    import seaborn as sns\n",
        "\n",
        "    if 'result' in locals():\n",
        "        random_effects = result.random_effects\n",
        "        dept_effects = pd.DataFrame([\n",
        "            {'Department': dept, 'Effect': effect[0]} for dept, effect in random_effects.items()\n",
        "        ]).sort_values('Effect')\n",
        "\n",
        "        plt.figure(figsize=(8, 6))\n",
        "        sns.barplot(data=dept_effects, x='Effect', y='Department', palette='viridis')\n",
        "        plt.axvline(0, color='red', linestyle='--', label='Avg')\n",
        "        plt.title('Department-Level Adjustments (Random Intercepts)')\n",
        "        plt.xlabel('Deviation from Average Satisfaction')\n",
        "        plt.legend()\n",
        "        plt.tight_layout()\n",
        "        plt.show()\n",
        "except ImportError:\n",
        "    print(\"Matplotlib/seaborn not available for plotting.\")"
      ],
      "metadata": {
        "colab": {
          "base_uri": "https://localhost:8080/",
          "height": 607
        },
        "id": "U-MgJiC54XyX",
        "outputId": "65977d96-f8d1-4983-edda-6ddd8c27d3e7"
      },
      "execution_count": 22,
      "outputs": [
        {
          "output_type": "display_data",
          "data": {
            "text/plain": [
              "<Figure size 800x600 with 1 Axes>"
            ],
            "image/png": "[encoded data removed]"
          },
          "metadata": {}
        }
      ]
    },
    {
      "cell_type": "code",
      "execution_count": 23,
      "metadata": {
        "colab": {
          "base_uri": "https://localhost:8080/"
        },
        "id": "RlliCFbftkln",
        "outputId": "c4d0fcf1-4b4a-4da9-c001-91472376f9cd"
      },
      "outputs": [
        {
          "output_type": "stream",
          "name": "stdout",
          "text": [
            "First 5 rows of key engineered features:\n",
            "   Q6  Q1_freq  Q1_diversity  Q1_diversity_norm  Q2_freq  Q2_diversity  \\\n",
            "0   3        5             0           0.000000        2             2   \n",
            "1   3        2             1           0.083333        9             1   \n",
            "2   4        9             4           0.333333        4             1   \n",
            "3   5       10             3           0.250000        0             0   \n",
            "4   3        7             1           0.083333        0             2   \n",
            "\n",
            "   Q2_diversity_norm  Q3_diversity  Q3_diversity_norm  Q4_diversity  ...  \\\n",
            "0                0.4             2              0.250             4  ...   \n",
            "1                0.2             0              0.000             1  ...   \n",
            "2                0.2             1              0.125             6  ...   \n",
            "3                0.0             0              0.000             3  ...   \n",
            "4                0.4             3              0.375             5  ...   \n",
            "\n",
            "   Q5_level_scaled  Q7_effort_scaled  Q8_awareness_scaled  \\\n",
            "0        -0.717001         -0.670828             1.350017   \n",
            "1        -0.000915          0.037570             1.183957   \n",
            "2        -0.000915         -1.379226             1.017898   \n",
            "3        -0.717001          0.037570             0.851838   \n",
            "4         1.431257          0.745968             1.183957   \n",
            "\n",
            "   Q1_diversity_norm_scaled  Q2_diversity_norm_scaled  \\\n",
            "0                 -2.012531                  0.736086   \n",
            "1                 -1.338096                 -0.281559   \n",
            "2                  0.685209                 -0.281559   \n",
            "3                  0.010774                 -1.299205   \n",
            "4                 -1.338096                  0.736086   \n",
            "\n",
            "   Q3_diversity_norm_scaled  Q4_diversity_norm_scaled  Q5_domains_scaled  \\\n",
            "0                  0.004143                  0.460170          -1.088717   \n",
            "1                 -1.616995                 -1.440004          -1.088717   \n",
            "2                 -0.806426                  1.726952          -0.371310   \n",
            "3                 -1.616995                 -0.173221           1.063504   \n",
            "4                  0.814713                  1.093561          -1.088717   \n",
            "\n",
            "               Department  Gender  \n",
            "0               Chemistry    Male  \n",
            "1  Electrical_Engineering    Male  \n",
            "2        Computer_Science  Female  \n",
            "3                 Biology  Female  \n",
            "4               Chemistry  Female  \n",
            "\n",
            "[5 rows x 25 columns]\n"
          ]
        }
      ],
      "source": [
        "# -----------------------------\n",
        "# 8. Final Check: Show First Rows of Engineered Data\n",
        "# -----------------------------\n",
        "print(\"First 5 rows of key engineered features:\")\n",
        "print(df[[c for c in df.columns if 'diversity' in c or 'freq' in c or 'scaled' in c or 'Q6' == c] + ['Department', 'Gender']].head())"
      ]
    },
    {
      "cell_type": "code",
      "source": [
        "from sklearn.linear_model import LassoCV\n",
        "from sklearn.preprocessing import StandardScaler\n",
        "from sklearn.pipeline import Pipeline\n",
        "from sklearn.model_selection import cross_val_score\n",
        "import pandas as pd\n",
        "import numpy as np\n",
        "\n",
        "# ------------------------------------\n",
        "# Step 1: Define Features\n",
        "# ------------------------------------\n",
        "main_features = [\n",
        "    'Q1_How_many_events_have_you_Volunteered_in',\n",
        "    'Q2_How_many_events_have_you_Participated_in',\n",
        "    'Q3_How_many_activities_are_you_Interested_in',\n",
        "    'Q4_How_many_activities_are_you_Passionate_about',\n",
        "    'Q5_What_are_your_levels_of_stress',\n",
        "    'Q7_How_much_effort_do_you_make_to_interact_with_others',\n",
        "    'Q8_About_How_events_are_you_aware_about'\n",
        "]\n",
        "\n",
        "# Dynamically collect all binary sub-questions\n",
        "sub_features = [\n",
        "    col for col in df.columns\n",
        "    if col.startswith(('Q1_Volunteered_For_', 'Q2_Participated_in_', 'Q3_Interested_in_', 'Q4_Passionate_about_', 'Q5_Stressed_about_'))\n",
        "]\n",
        "\n",
        "# Combine all predictors\n",
        "features = main_features + sub_features\n",
        "\n",
        "# ------------------------------------\n",
        "# Step 2: Encode Categorical Variables\n",
        "# ------------------------------------\n",
        "categorical_vars = ['Gender', 'Year_of_Study']\n",
        "df_encoded = pd.get_dummies(df, columns=categorical_vars, drop_first=True)\n",
        "\n",
        "# Add one-hot encoded categorical columns to features list\n",
        "encoded_cat_cols = [col for col in df_encoded.columns if any(c in col for c in categorical_vars)]\n",
        "features += encoded_cat_cols\n",
        "\n",
        "# ------------------------------------\n",
        "# Step 3: Prepare Feature Matrix\n",
        "# ------------------------------------\n",
        "X = df_encoded[features].copy()\n",
        "y = df_encoded['Q6']  # Assumes Q6 is already renamed\n",
        "\n",
        "# Handle missing values\n",
        "X.fillna(0, inplace=True)\n",
        "\n",
        "# ------------------------------------\n",
        "# Step 4: Fit Pipeline with LassoCV\n",
        "# ------------------------------------\n",
        "pipeline = Pipeline([\n",
        "    ('scaler', StandardScaler()),\n",
        "    ('lasso', LassoCV(cv=5, random_state=42, max_iter=5000))\n",
        "])\n",
        "\n",
        "pipeline.fit(X, y)\n",
        "\n",
        "# ------------------------------------\n",
        "# Step 5: Show Important Coefficients\n",
        "# ------------------------------------\n",
        "coefs = pd.Series(pipeline.named_steps['lasso'].coef_, index=X.columns)\n",
        "important = coefs[coefs.abs() > 0].sort_values(key=abs, ascending=False)\n",
        "\n",
        "print(\"Top Predictors Selected by Lasso:\")\n",
        "print(important.head(15))\n",
        "\n",
        "# ------------------------------------\n",
        "# Step 6: Model Performance (Cross-Validated)\n",
        "# ------------------------------------\n",
        "from sklearn.metrics import mean_squared_error, r2_score\n",
        "from sklearn.model_selection import train_test_split\n",
        "\n",
        "X_train, X_test, y_train, y_test = train_test_split(X, y, test_size=0.2, random_state=42)\n",
        "\n",
        "pipeline.fit(X_train, y_train)\n",
        "y_pred = pipeline.predict(X_test)\n",
        "\n",
        "rmse = np.sqrt(mean_squared_error(y_test, y_pred))\n",
        "r2 = r2_score(y_test, y_pred)\n",
        "\n",
        "print(f\"Model Performance on Test Set:\")\n",
        "print(f\"R²: {r2:.3f}\")\n",
        "print(f\"RMSE: {rmse:.3f}\")\n"
      ],
      "metadata": {
        "colab": {
          "base_uri": "https://localhost:8080/"
        },
        "id": "MYkg5zfQ1LQM",
        "outputId": "92e9b5ba-430a-4b3d-c4ff-8460cf96bb68"
      },
      "execution_count": 24,
      "outputs": [
        {
          "output_type": "stream",
          "name": "stdout",
          "text": [
            "Top Predictors Selected by Lasso:\n",
            "Q1_How_many_events_have_you_Volunteered_in         0.532852\n",
            "Q5_What_are_your_levels_of_stress                 -0.324537\n",
            "Year_of_Study_2                                    0.036507\n",
            "Q4_How_many_activities_are_you_Passionate_about    0.023621\n",
            "Q2_Participated_in_Clubs                           0.020524\n",
            "Q5_Stressed_about_Family_issues                   -0.014471\n",
            "Q4_Passionate_about_Diversity_Inclusion           -0.011468\n",
            "Q4_Passionate_about_Animal_welfare                 0.010574\n",
            "Gender_Male                                       -0.008679\n",
            "Q3_Interested_in_Research_and_independent_study    0.007262\n",
            "Q1_Volunteered_For_Animal_welfare                 -0.004529\n",
            "Q1_Volunteered_For_Health_Well_being               0.003431\n",
            "Q2_Participated_in_Halls                          -0.003054\n",
            "Q1_Volunteered_For_Community_building              0.001415\n",
            "dtype: float64\n",
            "Model Performance on Test Set:\n",
            "R²: 0.418\n",
            "RMSE: 0.796\n"
          ]
        }
      ]
    },
    {
      "cell_type": "code",
      "source": [],
      "metadata": {
        "id": "Hb7LIj5B1L0n"
      },
      "execution_count": 24,
      "outputs": []
    }
  ]
}